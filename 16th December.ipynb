{
  "nbformat": 4,
  "nbformat_minor": 0,
  "metadata": {
    "colab": {
      "provenance": []
    },
    "kernelspec": {
      "name": "python3",
      "display_name": "Python 3"
    },
    "language_info": {
      "name": "python"
    }
  },
  "cells": [
    {
      "cell_type": "code",
      "execution_count": null,
      "metadata": {
        "colab": {
          "base_uri": "https://localhost:8080/"
        },
        "id": "IEFV_e90afFs",
        "outputId": "c3232441-b73e-461b-f9a5-2cf76ec2e6be"
      },
      "outputs": [
        {
          "output_type": "stream",
          "name": "stdout",
          "text": [
            "HEllo world\n"
          ]
        }
      ],
      "source": [
        "print(\"HEllo world\")"
      ]
    },
    {
      "cell_type": "code",
      "source": [
        "import os\n",
        "import sys\n",
        "import pathlib\n",
        "import  zipfile as zp\n",
        "\n",
        "dn = input(\"Enter a path\")\n",
        "#/content/Python programmes-2.pdf /content/Zipped\n",
        "\n",
        "if not os.path.isdir(dn):\n",
        "  print(\"NO dir\")\n",
        "  sys.exit(0)\n",
        "\n",
        "cd = pathlib.Path(dn)\n",
        "print(cd)\n",
        "\n",
        "\n",
        "with zp.ZipFile('Lat.zip',mode='w') as archive :\n",
        "  for file_path in cd.rglob(\"*\"):\n",
        "    archive.write(file_path,arcname=filepath.relative_to(cd))\n",
        "\n",
        "if os.path.isfile(\"Lat.zip\"):\n",
        "  print(\"created\")\n",
        "else :\n",
        "  print(\"not cereated\")"
      ],
      "metadata": {
        "colab": {
          "base_uri": "https://localhost:8080/"
        },
        "id": "WV9yyOZ5ajDx",
        "outputId": "09746f75-2001-497d-8410-5ed699e368f5"
      },
      "execution_count": null,
      "outputs": [
        {
          "output_type": "stream",
          "name": "stdout",
          "text": [
            "Enter a path/content/Zipped\n",
            "/content/Zipped\n"
          ]
        }
      ]
    },
    {
      "cell_type": "code",
      "source": [
        "class Employee:\n",
        "  def __init__(self):\n",
        "    self.name = \"\"\n",
        "    self.empId = \"\"\n",
        "\n",
        "  def get(self):\n",
        "    self.name =input(\"enter name\")\n",
        "    self.empId = input(\"enter id\")\n",
        "\n",
        "  def disp(self):\n",
        "    print(self.name,self.empId,sep=\"\\t\")\n",
        "\n",
        "  def update(self):\n",
        "    self.empId = input(\"Enter id:\")\n",
        "\n",
        "e1 = Employee()\n",
        "e1.get()\n",
        "e1.disp()\n",
        "e1.update()\n",
        "e1.disp()"
      ],
      "metadata": {
        "colab": {
          "base_uri": "https://localhost:8080/"
        },
        "id": "uMjTKea1c8rd",
        "outputId": "7b603d1a-e3ae-4c73-ec0a-ef988f79b94c"
      },
      "execution_count": null,
      "outputs": [
        {
          "output_type": "stream",
          "name": "stdout",
          "text": [
            "enter nameaghafj\n",
            "enter idghfdj\n",
            "aghafj\tghfdj\n",
            "Enter id:ghfkdjl\n",
            "aghafj\tghfkdjl\n"
          ]
        }
      ]
    },
    {
      "cell_type": "code",
      "source": [
        "fname = input(\"Enter filename\")\n",
        "\n",
        "if not os.path.isfile(fname):\n",
        "  print(\"NOt a file\")\n",
        "else: print(\"is file\")\n",
        "\n",
        "infile = open(fname,'r')\n",
        "linelist = infile.readlines()\n",
        "\n",
        "word = \"web\"\n",
        "count =0\n",
        "for line in linelist:\n",
        "  count+= line.count(word)\n",
        "\n",
        "\n",
        "# print(linelist)\n",
        "print(count)\n",
        "\n"
      ],
      "metadata": {
        "colab": {
          "base_uri": "https://localhost:8080/"
        },
        "id": "F-J1IQ68nyCX",
        "outputId": "a02d9fda-371c-4fee-94ee-e1ce050eeed6"
      },
      "execution_count": null,
      "outputs": [
        {
          "output_type": "stream",
          "name": "stdout",
          "text": [
            "Enter filenamepankaj.txt\n",
            "is file\n",
            "2\n"
          ]
        }
      ]
    },
    {
      "cell_type": "code",
      "source": [
        "import"
      ],
      "metadata": {
        "id": "wUUwtze71Twl"
      },
      "execution_count": null,
      "outputs": []
    }
  ]
}